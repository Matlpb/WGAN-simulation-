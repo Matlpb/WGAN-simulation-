{
 "cells": [
  {
   "cell_type": "code",
   "execution_count": null,
   "id": "1295ed60",
   "metadata": {},
   "outputs": [],
   "source": [
    "import torch\n",
    "import torch.nn as nn\n",
    "import torch.optim as optim\n",
    "import numpy as np\n",
    "import matplotlib.pyplot as plt\n",
    "from torch.utils.data import Dataset, DataLoader\n"
   ]
  },
  {
   "cell_type": "code",
   "execution_count": null,
   "id": "94db34cd",
   "metadata": {},
   "outputs": [],
   "source": [
    "class GaussianMixtureDataset(Dataset):\n",
    "    def __init__(self, n_samples=10000, centers=8, radius=2.0, std=0.05):\n",
    "        super().__init__()\n",
    "        samples = []\n",
    "        for _ in range(n_samples):\n",
    "            angle = np.random.randint(0, centers) * 2 * np.pi / centers\n",
    "            center = np.array([radius * np.cos(angle), radius * np.sin(angle)])\n",
    "            point = center + np.random.randn(2) * std\n",
    "            samples.append(point)\n",
    "        self.samples = torch.from_numpy(np.array(samples, dtype=np.float32))\n",
    "\n",
    "    def __len__(self):\n",
    "        return len(self.samples)\n",
    "\n",
    "    def __getitem__(self, idx):\n",
    "        return self.samples[idx]\n",
    "\n",
    "# Create dataset and loader\n",
    "dataset = GaussianMixtureDataset(n_samples=10000)\n",
    "loader = DataLoader(dataset, batch_size=512, shuffle=True)"
   ]
  }
 ],
 "metadata": {
  "kernelspec": {
   "display_name": "Python (venv-prix-elec)",
   "language": "python",
   "name": "venv-prix-elec"
  },
  "language_info": {
   "name": "python",
   "version": "3.10.16"
  }
 },
 "nbformat": 4,
 "nbformat_minor": 5
}
